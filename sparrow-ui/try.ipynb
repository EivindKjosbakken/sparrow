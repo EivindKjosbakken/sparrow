{
 "cells": [
  {
   "cell_type": "markdown",
   "metadata": {},
   "source": [
    "## convert from existing format (sparrow labling) to desired format (CORD dataset)"
   ]
  },
  {
   "cell_type": "code",
   "execution_count": 7,
   "metadata": {},
   "outputs": [],
   "source": [
    "import os\n",
    "import json\n",
    "\n",
    "from tqdm import tqdm\n",
    "from PIL import Image\n",
    "import jsonlines\n"
   ]
  },
  {
   "cell_type": "code",
   "execution_count": 8,
   "metadata": {},
   "outputs": [],
   "source": [
    "#first store all data to one array, then transform to train/val/test\n",
    "\n"
   ]
  },
  {
   "cell_type": "code",
   "execution_count": 9,
   "metadata": {},
   "outputs": [],
   "source": [
    "#Following the example data from https://colab.research.google.com/github/NielsRogge/Transformers-Tutorials/blob/master/Donut/CORD/Fine_tune_Donut_on_a_custom_dataset_(CORD)_with_PyTorch_Lightning.ipynb#scrollTo=ok4IudPaFhqi\n",
    "\n",
    "#read data\n",
    "labeledReceipts = os.listdir(\"./docs/json\")\n",
    "labeledReceipts.remove(\"key\") #do not want the key folder\n",
    "\n",
    "\n",
    "\n",
    "def getMenuListAndTotal(jsonObj):\n",
    "    menuList = [] # list of objects : {\"nm\": \"Bbk Bengil Nasi\", \"cnt\": \"\", \"price\": \"125,000\"}   -> cnt is empty string always\n",
    "    # print(jsonObj[\"words\"])\n",
    "    total = 0\n",
    "\n",
    "    uniqueRowLabels = set() # set of unique rows\n",
    "    for box in jsonObj[\"words\"]:\n",
    "        uniqueRowLabels.add(box[\"label\"])\n",
    "    if (len(uniqueRowLabels) == 0):\n",
    "        return None, None\n",
    "    maxRow = max(list(uniqueRowLabels)) #to prevent adding the total as a menu item\n",
    "    \n",
    "    for rowLabel in uniqueRowLabels:\n",
    "        #find item with rowLabel\n",
    "        items = []\n",
    "        for box in jsonObj[\"words\"]:\n",
    "            if box[\"label\"] == rowLabel:\n",
    "                items.append([box, box[\"rect\"][\"x1\"]])\n",
    "        \n",
    "        if (items[0][1] < items[1][1]): #product is further to the left -> smaller x1\n",
    "            productBox, priceBox = items[0][0], items[1][0]\n",
    "        else:\n",
    "            productBox, priceBox = items[1][0], items[0][0]\n",
    "\n",
    "        if (rowLabel == maxRow): #last row is the total, dont want to add that\n",
    "            total = priceBox[\"value\"]\n",
    "        else:\n",
    "            menuList.append({\"nm\": productBox[\"value\"], \"cnt\": \"\", \"price\": priceBox[\"value\"]})\n",
    "\n",
    "        #add bounding boxes\n",
    "\n",
    "    return menuList, total\n",
    "\n",
    "def getTempFromBox(box):\n",
    "    #if point1 is bot left, point2 is bot right ,point3 is top right, point4 is top left\n",
    "    x4,x2,y4,y2 = box[\"rect\"][\"x1\"], box[\"rect\"][\"x2\"], box[\"rect\"][\"y1\"], box[\"rect\"][\"y2\"] #we have bot left and top right corner\n",
    "    x1,y1 = x4, y2\n",
    "    x3,y3 = x2, y4\n",
    "    #swap 2 and 3\n",
    "    x2,y2,x3,y3 = x3,y3,x2,y2\n",
    "    #swap 1 and 4\n",
    "    x1,y1,x4,y4 = x4,y4,x1,y1\n",
    "\n",
    "    temp = {\"words\" : [{\"quad\": \n",
    "            {\"\"\n",
    "            \"x2\": x2,\n",
    "            \"y3\": y3,\n",
    "            \"x3\": x3,\n",
    "            \"y4\": y4,\n",
    "            \"x1\": x1,\n",
    "            \"y1\": y1,\n",
    "            \"x4\": x4,\n",
    "            \"y2\": y2},\n",
    "            \"is_key\": 0, #always 0\n",
    "            \"row_id\": box[\"label\"],\n",
    "            \"text\": box[\"value\"]\n",
    "            }],\n",
    "            \"category\": \"menu\",\n",
    "            \"group_id\": box[\"label\"],\n",
    "            \"sub_group_id\": 0, #always 0\n",
    "            }\n",
    "    return temp\n",
    "\n",
    "\n",
    "\n",
    "def getFullImgPath(imageName):\n",
    "    path = \"./docs/images/\" + imageName\n",
    "    if (os.path.exists(path)):\n",
    "        return path\n",
    "    print(\"DID NOT FIND PICTURE WITH NAME: \" + imageName)\n",
    "    return None\n",
    "\n",
    "def prepareData():\n",
    "    \"\"\"prepares all data\"\"\"\n",
    "    dictArr = []\n",
    "    for idx, receipt in tqdm(enumerate(labeledReceipts)):\n",
    "        newJsonObject = prepareReceipt(receipt, index=idx)\n",
    "        if (newJsonObject != None):\n",
    "            dictArr.append(newJsonObject)\n",
    "    return dictArr\n",
    "\n",
    "def prepareReceipt(receipt, index):\n",
    "    #read json file\n",
    "    jsonObj = json.load(open(\"./docs/json/\" + receipt))\n",
    "\n",
    "    newJsonObj = {}\n",
    "\n",
    "    width, height = jsonObj[\"meta\"][\"image_size\"][\"width\"], jsonObj[\"meta\"][\"image_size\"][\"height\"]\n",
    "    if (width > height):\n",
    "        print(\"IGNORING RECEIPT SINCE IT IS NOT IN PORTRAIT MODE\")\n",
    "        return None\n",
    "    # newJsonObj[\"meta\"] = jsonObj[\"meta\"]  #NOTE not needed\n",
    "    \n",
    "    menuList, total = getMenuListAndTotal(jsonObj)\n",
    "    if (menuList == None):\n",
    "        return None\n",
    "    newJsonObj[\"gt_parse\"] = {\"menu\":menuList, \"total\": {\"total_price\": total}} #adding menu list and total\n",
    "\n",
    "    validLineArr = []\n",
    "    for box in jsonObj[\"words\"]:\n",
    "        temp = getTempFromBox(box)\n",
    "        validLineArr.append(temp)\n",
    "        \n",
    "    newJsonObj[\"valid_line\"] = validLineArr\n",
    "    newJsonObj[\"roi\"] = dict()\n",
    "    newJsonObj[\"repeating_symbol\"] = dict()\n",
    "    newJsonObj[\"dontcare\"] = dict()\n",
    "\n",
    "    imageName = receipt.split(\".\")[0]+\".jpg\"\n",
    "    imgPath = getFullImgPath(imageName)\n",
    "    img = Image.open(imgPath)\n",
    "    fullDict = {\"file_name\":str(index)+\".jpg\", \"ground_truth\": json.dumps(newJsonObj)}\n",
    "    \n",
    "    return fullDict\n",
    "        "
   ]
  },
  {
   "cell_type": "code",
   "execution_count": 10,
   "metadata": {},
   "outputs": [
    {
     "name": "stderr",
     "output_type": "stream",
     "text": [
      "3it [00:00, 88.31it/s]"
     ]
    },
    {
     "name": "stdout",
     "output_type": "stream",
     "text": [
      "IGNORING RECEIPT SINCE IT IS NOT IN PORTRAIT MODE\n"
     ]
    },
    {
     "name": "stderr",
     "output_type": "stream",
     "text": [
      "\n"
     ]
    },
    {
     "data": {
      "text/plain": [
       "[{'file_name': '1.jpg',\n",
       "  'ground_truth': '{\"gt_parse\": {\"menu\": [{\"nm\": \"LETTMELK 0,5 %\", \"cnt\": \"\", \"price\": \"18,90\"}, {\"nm\": \"LETTMELK 0,5 %\", \"cnt\": \"\", \"price\": \"18,90\"}], \"total\": {\"total_price\": \"12,40\"}}, \"valid_line\": [{\"words\": [{\"quad\": {\"x2\": 1073, \"y3\": 1259, \"x3\": 1073, \"y4\": 1259, \"x1\": 319, \"y1\": 1132, \"x4\": 319, \"y2\": 1132}, \"is_key\": 0, \"row_id\": \"1\", \"text\": \"LETTMELK 0,5 %\"}], \"category\": \"menu\", \"group_id\": \"1\", \"sub_group_id\": 0}, {\"words\": [{\"quad\": {\"x2\": 2308, \"y3\": 1228, \"x3\": 2308, \"y4\": 1228, \"x1\": 2051, \"y1\": 1116, \"x4\": 2051, \"y2\": 1116}, \"is_key\": 0, \"row_id\": \"1\", \"text\": \"18,90\"}], \"category\": \"menu\", \"group_id\": \"1\", \"sub_group_id\": 0}, {\"words\": [{\"quad\": {\"x2\": 1058, \"y3\": 1351, \"x3\": 1058, \"y4\": 1351, \"x1\": 346, \"y1\": 1255, \"x4\": 346, \"y2\": 1255}, \"is_key\": 0, \"row_id\": \"2\", \"text\": \"LETTMELK 0,5 %\"}], \"category\": \"menu\", \"group_id\": \"2\", \"sub_group_id\": 0}, {\"words\": [{\"quad\": {\"x2\": 2301, \"y3\": 1336, \"x3\": 2301, \"y4\": 1336, \"x1\": 2047, \"y1\": 1232, \"x4\": 2047, \"y2\": 1232}, \"is_key\": 0, \"row_id\": \"2\", \"text\": \"18,90\"}], \"category\": \"menu\", \"group_id\": \"2\", \"sub_group_id\": 0}, {\"words\": [{\"quad\": {\"x2\": 1108, \"y3\": 1451, \"x3\": 1108, \"y4\": 1451, \"x1\": 362, \"y1\": 1367, \"x4\": 362, \"y2\": 1367}, \"is_key\": 0, \"row_id\": \"3\", \"text\": \"HAKKEDE TOMATER\"}], \"category\": \"menu\", \"group_id\": \"3\", \"sub_group_id\": 0}, {\"words\": [{\"quad\": {\"x2\": 2301, \"y3\": 1432, \"x3\": 2301, \"y4\": 1432, \"x1\": 2043, \"y1\": 1340, \"x4\": 2043, \"y2\": 1340}, \"is_key\": 0, \"row_id\": \"3\", \"text\": \"12,40\"}], \"category\": \"menu\", \"group_id\": \"3\", \"sub_group_id\": 0}], \"roi\": {}, \"repeating_symbol\": {}, \"dontcare\": {}}'},\n",
       " {'file_name': '2.jpg',\n",
       "  'ground_truth': '{\"gt_parse\": {\"menu\": [{\"nm\": \"TOMATER LV\", \"cnt\": \"\", \"price\": \"3,64\"}, {\"nm\": \"NORSK FJELLBR\\\\u00d8D\", \"cnt\": \"\", \"price\": \"22,90\"}, {\"nm\": \"EPLE R\\\\u00d8DE PR KG\", \"cnt\": \"\", \"price\": \"5,92\"}, {\"nm\": \"MIDDAGSRIS 2KG FIRSTPRI\", \"cnt\": \"\", \"price\": \"16,90\"}], \"total\": {\"total_price\": \"510,97\"}}, \"valid_line\": [{\"words\": [{\"quad\": {\"x2\": 245, \"y3\": 272, \"x3\": 245, \"y4\": 272, \"x1\": 58, \"y1\": 259, \"x4\": 58, \"y2\": 259}, \"is_key\": 0, \"row_id\": \"1\", \"text\": \"NORSK FJELLBR\\\\u00d8D\"}], \"category\": \"menu\", \"group_id\": \"1\", \"sub_group_id\": 0}, {\"words\": [{\"quad\": {\"x2\": 372, \"y3\": 273, \"x3\": 372, \"y4\": 273, \"x1\": 327, \"y1\": 254, \"x4\": 327, \"y2\": 254}, \"is_key\": 0, \"row_id\": \"1\", \"text\": \"22,90\"}], \"category\": \"menu\", \"group_id\": \"1\", \"sub_group_id\": 0}, {\"words\": [{\"quad\": {\"x2\": 140, \"y3\": 287, \"x3\": 140, \"y4\": 287, \"x1\": 60, \"y1\": 271, \"x4\": 60, \"y2\": 271}, \"is_key\": 0, \"row_id\": \"2\", \"text\": \"TOMATER LV\"}], \"category\": \"menu\", \"group_id\": \"2\", \"sub_group_id\": 0}, {\"words\": [{\"quad\": {\"x2\": 372, \"y3\": 286, \"x3\": 372, \"y4\": 286, \"x1\": 331, \"y1\": 269, \"x4\": 331, \"y2\": 269}, \"is_key\": 0, \"row_id\": \"2\", \"text\": \"3,64\"}], \"category\": \"menu\", \"group_id\": \"2\", \"sub_group_id\": 0}, {\"words\": [{\"quad\": {\"x2\": 176, \"y3\": 311, \"x3\": 176, \"y4\": 311, \"x1\": 60, \"y1\": 298, \"x4\": 60, \"y2\": 298}, \"is_key\": 0, \"row_id\": \"3\", \"text\": \"EPLE R\\\\u00d8DE PR KG\"}], \"category\": \"menu\", \"group_id\": \"3\", \"sub_group_id\": 0}, {\"words\": [{\"quad\": {\"x2\": 370, \"y3\": 313, \"x3\": 370, \"y4\": 313, \"x1\": 335, \"y1\": 296, \"x4\": 335, \"y2\": 296}, \"is_key\": 0, \"row_id\": \"3\", \"text\": \"5,92\"}], \"category\": \"menu\", \"group_id\": \"3\", \"sub_group_id\": 0}, {\"words\": [{\"quad\": {\"x2\": 238, \"y3\": 337, \"x3\": 238, \"y4\": 337, \"x1\": 60, \"y1\": 321, \"x4\": 60, \"y2\": 321}, \"is_key\": 0, \"row_id\": \"4\", \"text\": \"MIDDAGSRIS 2KG FIRSTPRI\"}], \"category\": \"menu\", \"group_id\": \"4\", \"sub_group_id\": 0}, {\"words\": [{\"quad\": {\"x2\": 373, \"y3\": 338, \"x3\": 373, \"y4\": 338, \"x1\": 330, \"y1\": 324, \"x4\": 330, \"y2\": 324}, \"is_key\": 0, \"row_id\": \"4\", \"text\": \"16,90\"}], \"category\": \"menu\", \"group_id\": \"4\", \"sub_group_id\": 0}, {\"words\": [{\"quad\": {\"x2\": 122, \"y3\": 582, \"x3\": 122, \"y4\": 582, \"x1\": 57, \"y1\": 560, \"x4\": 57, \"y2\": 560}, \"is_key\": 0, \"row_id\": \"5\", \"text\": \"SUBTOTAL\"}], \"category\": \"menu\", \"group_id\": \"5\", \"sub_group_id\": 0}, {\"words\": [{\"quad\": {\"x2\": 376, \"y3\": 591, \"x3\": 376, \"y4\": 591, \"x1\": 319, \"y1\": 568, \"x4\": 319, \"y2\": 568}, \"is_key\": 0, \"row_id\": \"5\", \"text\": \"510,97\"}], \"category\": \"menu\", \"group_id\": \"5\", \"sub_group_id\": 0}], \"roi\": {}, \"repeating_symbol\": {}, \"dontcare\": {}}'}]"
      ]
     },
     "execution_count": 10,
     "metadata": {},
     "output_type": "execute_result"
    }
   ],
   "source": [
    "dataset = prepareData()\n",
    "dataset"
   ]
  },
  {
   "cell_type": "code",
   "execution_count": 11,
   "metadata": {},
   "outputs": [],
   "source": [
    "DATA_FOLDER_NAME = \"TEST_DATA\""
   ]
  },
  {
   "cell_type": "code",
   "execution_count": 12,
   "metadata": {},
   "outputs": [
    {
     "name": "stderr",
     "output_type": "stream",
     "text": [
      "100%|██████████| 1/1 [00:00<00:00, 11.00it/s]\n"
     ]
    },
    {
     "name": "stdout",
     "output_type": "stream",
     "text": [
      "1.jpg\n"
     ]
    },
    {
     "name": "stderr",
     "output_type": "stream",
     "text": [
      "0it [00:00, ?it/s]\n",
      "100%|██████████| 1/1 [00:00<00:00,  8.10it/s]\n"
     ]
    }
   ],
   "source": [
    "valIdx = int(len(dataset) * 0.8)\n",
    "testIdx = int(len(dataset) * 0.9)\n",
    "\n",
    "#split dataset into train/validation/test\n",
    "train_dataset = dataset[:valIdx]\n",
    "val_dataset = dataset[valIdx:testIdx]\n",
    "test_dataset = dataset[testIdx:]\n",
    "\n",
    "#create dirs if it does not exist\n",
    "if not os.path.isdir(DATA_FOLDER_NAME):\n",
    "\tos.mkdir(DATA_FOLDER_NAME)\n",
    "\n",
    "for subfolder in [\"train\", \"validation\", \"test\"]:\n",
    "    if not os.path.isdir(f\"{DATA_FOLDER_NAME}/{subfolder}\"):\n",
    "        os.mkdir(f\"{DATA_FOLDER_NAME}/{subfolder}\") \n",
    "\n",
    "#train\n",
    "with jsonlines.open(f\"{DATA_FOLDER_NAME}/train/metadata.jsonl\", \"w\") as writer:\n",
    "    writer.write_all(train_dataset)\n",
    "#push all images to folder\n",
    "for data in tqdm(train_dataset):\n",
    "    imgName = data[\"file_name\"]\n",
    "    imgPath = getFullImgPath(imgName)\n",
    "    print(imgName)\n",
    "    img = Image.open(imgPath)\n",
    "    img.save(f\"{DATA_FOLDER_NAME}/train/{imgName}\")\n",
    "\n",
    "#val\n",
    "with jsonlines.open(f\"{DATA_FOLDER_NAME}/validation/metadata.jsonl\", \"w\") as writer:\n",
    "    writer.write_all(val_dataset)\n",
    "#push all images to folder\n",
    "for data in tqdm(val_dataset):\n",
    "    imgName = data[\"file_name\"]\n",
    "    imgPath = getFullImgPath(imgName)\n",
    "    img = Image.open(imgPath)\n",
    "    img.save(f\"{DATA_FOLDER_NAME}/val/{imgName}\")\n",
    "#test\n",
    "with jsonlines.open(f\"{DATA_FOLDER_NAME}/test/metadata.jsonl\", \"w\") as writer:\n",
    "    writer.write_all(test_dataset)\n",
    "#push all images to folder\n",
    "for data in tqdm(test_dataset):\n",
    "    imgName = data[\"file_name\"]\n",
    "    imgPath = getFullImgPath(imgName)\n",
    "    if (imgPath is not None):\n",
    "        img = Image.open(imgPath)\n",
    "        img.save(f\"{DATA_FOLDER_NAME}/test/{imgName}\")\n",
    "    \n"
   ]
  },
  {
   "cell_type": "code",
   "execution_count": 13,
   "metadata": {},
   "outputs": [
    {
     "data": {
      "text/plain": [
       "[{'file_name': '1.jpg',\n",
       "  'ground_truth': '{\"gt_parse\": {\"menu\": [{\"nm\": \"LETTMELK 0,5 %\", \"cnt\": \"\", \"price\": \"18,90\"}, {\"nm\": \"LETTMELK 0,5 %\", \"cnt\": \"\", \"price\": \"18,90\"}], \"total\": {\"total_price\": \"12,40\"}}, \"valid_line\": [{\"words\": [{\"quad\": {\"x2\": 1073, \"y3\": 1259, \"x3\": 1073, \"y4\": 1259, \"x1\": 319, \"y1\": 1132, \"x4\": 319, \"y2\": 1132}, \"is_key\": 0, \"row_id\": \"1\", \"text\": \"LETTMELK 0,5 %\"}], \"category\": \"menu\", \"group_id\": \"1\", \"sub_group_id\": 0}, {\"words\": [{\"quad\": {\"x2\": 2308, \"y3\": 1228, \"x3\": 2308, \"y4\": 1228, \"x1\": 2051, \"y1\": 1116, \"x4\": 2051, \"y2\": 1116}, \"is_key\": 0, \"row_id\": \"1\", \"text\": \"18,90\"}], \"category\": \"menu\", \"group_id\": \"1\", \"sub_group_id\": 0}, {\"words\": [{\"quad\": {\"x2\": 1058, \"y3\": 1351, \"x3\": 1058, \"y4\": 1351, \"x1\": 346, \"y1\": 1255, \"x4\": 346, \"y2\": 1255}, \"is_key\": 0, \"row_id\": \"2\", \"text\": \"LETTMELK 0,5 %\"}], \"category\": \"menu\", \"group_id\": \"2\", \"sub_group_id\": 0}, {\"words\": [{\"quad\": {\"x2\": 2301, \"y3\": 1336, \"x3\": 2301, \"y4\": 1336, \"x1\": 2047, \"y1\": 1232, \"x4\": 2047, \"y2\": 1232}, \"is_key\": 0, \"row_id\": \"2\", \"text\": \"18,90\"}], \"category\": \"menu\", \"group_id\": \"2\", \"sub_group_id\": 0}, {\"words\": [{\"quad\": {\"x2\": 1108, \"y3\": 1451, \"x3\": 1108, \"y4\": 1451, \"x1\": 362, \"y1\": 1367, \"x4\": 362, \"y2\": 1367}, \"is_key\": 0, \"row_id\": \"3\", \"text\": \"HAKKEDE TOMATER\"}], \"category\": \"menu\", \"group_id\": \"3\", \"sub_group_id\": 0}, {\"words\": [{\"quad\": {\"x2\": 2301, \"y3\": 1432, \"x3\": 2301, \"y4\": 1432, \"x1\": 2043, \"y1\": 1340, \"x4\": 2043, \"y2\": 1340}, \"is_key\": 0, \"row_id\": \"3\", \"text\": \"12,40\"}], \"category\": \"menu\", \"group_id\": \"3\", \"sub_group_id\": 0}], \"roi\": {}, \"repeating_symbol\": {}, \"dontcare\": {}}'},\n",
       " {'file_name': '2.jpg',\n",
       "  'ground_truth': '{\"gt_parse\": {\"menu\": [{\"nm\": \"TOMATER LV\", \"cnt\": \"\", \"price\": \"3,64\"}, {\"nm\": \"NORSK FJELLBR\\\\u00d8D\", \"cnt\": \"\", \"price\": \"22,90\"}, {\"nm\": \"EPLE R\\\\u00d8DE PR KG\", \"cnt\": \"\", \"price\": \"5,92\"}, {\"nm\": \"MIDDAGSRIS 2KG FIRSTPRI\", \"cnt\": \"\", \"price\": \"16,90\"}], \"total\": {\"total_price\": \"510,97\"}}, \"valid_line\": [{\"words\": [{\"quad\": {\"x2\": 245, \"y3\": 272, \"x3\": 245, \"y4\": 272, \"x1\": 58, \"y1\": 259, \"x4\": 58, \"y2\": 259}, \"is_key\": 0, \"row_id\": \"1\", \"text\": \"NORSK FJELLBR\\\\u00d8D\"}], \"category\": \"menu\", \"group_id\": \"1\", \"sub_group_id\": 0}, {\"words\": [{\"quad\": {\"x2\": 372, \"y3\": 273, \"x3\": 372, \"y4\": 273, \"x1\": 327, \"y1\": 254, \"x4\": 327, \"y2\": 254}, \"is_key\": 0, \"row_id\": \"1\", \"text\": \"22,90\"}], \"category\": \"menu\", \"group_id\": \"1\", \"sub_group_id\": 0}, {\"words\": [{\"quad\": {\"x2\": 140, \"y3\": 287, \"x3\": 140, \"y4\": 287, \"x1\": 60, \"y1\": 271, \"x4\": 60, \"y2\": 271}, \"is_key\": 0, \"row_id\": \"2\", \"text\": \"TOMATER LV\"}], \"category\": \"menu\", \"group_id\": \"2\", \"sub_group_id\": 0}, {\"words\": [{\"quad\": {\"x2\": 372, \"y3\": 286, \"x3\": 372, \"y4\": 286, \"x1\": 331, \"y1\": 269, \"x4\": 331, \"y2\": 269}, \"is_key\": 0, \"row_id\": \"2\", \"text\": \"3,64\"}], \"category\": \"menu\", \"group_id\": \"2\", \"sub_group_id\": 0}, {\"words\": [{\"quad\": {\"x2\": 176, \"y3\": 311, \"x3\": 176, \"y4\": 311, \"x1\": 60, \"y1\": 298, \"x4\": 60, \"y2\": 298}, \"is_key\": 0, \"row_id\": \"3\", \"text\": \"EPLE R\\\\u00d8DE PR KG\"}], \"category\": \"menu\", \"group_id\": \"3\", \"sub_group_id\": 0}, {\"words\": [{\"quad\": {\"x2\": 370, \"y3\": 313, \"x3\": 370, \"y4\": 313, \"x1\": 335, \"y1\": 296, \"x4\": 335, \"y2\": 296}, \"is_key\": 0, \"row_id\": \"3\", \"text\": \"5,92\"}], \"category\": \"menu\", \"group_id\": \"3\", \"sub_group_id\": 0}, {\"words\": [{\"quad\": {\"x2\": 238, \"y3\": 337, \"x3\": 238, \"y4\": 337, \"x1\": 60, \"y1\": 321, \"x4\": 60, \"y2\": 321}, \"is_key\": 0, \"row_id\": \"4\", \"text\": \"MIDDAGSRIS 2KG FIRSTPRI\"}], \"category\": \"menu\", \"group_id\": \"4\", \"sub_group_id\": 0}, {\"words\": [{\"quad\": {\"x2\": 373, \"y3\": 338, \"x3\": 373, \"y4\": 338, \"x1\": 330, \"y1\": 324, \"x4\": 330, \"y2\": 324}, \"is_key\": 0, \"row_id\": \"4\", \"text\": \"16,90\"}], \"category\": \"menu\", \"group_id\": \"4\", \"sub_group_id\": 0}, {\"words\": [{\"quad\": {\"x2\": 122, \"y3\": 582, \"x3\": 122, \"y4\": 582, \"x1\": 57, \"y1\": 560, \"x4\": 57, \"y2\": 560}, \"is_key\": 0, \"row_id\": \"5\", \"text\": \"SUBTOTAL\"}], \"category\": \"menu\", \"group_id\": \"5\", \"sub_group_id\": 0}, {\"words\": [{\"quad\": {\"x2\": 376, \"y3\": 591, \"x3\": 376, \"y4\": 591, \"x1\": 319, \"y1\": 568, \"x4\": 319, \"y2\": 568}, \"is_key\": 0, \"row_id\": \"5\", \"text\": \"510,97\"}], \"category\": \"menu\", \"group_id\": \"5\", \"sub_group_id\": 0}], \"roi\": {}, \"repeating_symbol\": {}, \"dontcare\": {}}'}]"
      ]
     },
     "execution_count": 13,
     "metadata": {},
     "output_type": "execute_result"
    }
   ],
   "source": [
    "dataset"
   ]
  },
  {
   "cell_type": "code",
   "execution_count": null,
   "metadata": {},
   "outputs": [],
   "source": []
  }
 ],
 "metadata": {
  "kernelspec": {
   "display_name": "venv",
   "language": "python",
   "name": "python3"
  },
  "language_info": {
   "codemirror_mode": {
    "name": "ipython",
    "version": 3
   },
   "file_extension": ".py",
   "mimetype": "text/x-python",
   "name": "python",
   "nbconvert_exporter": "python",
   "pygments_lexer": "ipython3",
   "version": "3.10.4"
  },
  "orig_nbformat": 4
 },
 "nbformat": 4,
 "nbformat_minor": 2
}
